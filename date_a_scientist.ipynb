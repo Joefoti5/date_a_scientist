{
 "cells": [
  {
   "cell_type": "code",
   "execution_count": 33,
   "metadata": {},
   "outputs": [],
   "source": [
    "import numpy as np\n",
    "import pandas as pd\n",
    "\n",
    "from matplotlib import pyplot as plt\n",
    "import seaborn as sns\n",
    "\n",
    "plt.rcParams['figure.figsize'] = [6, 6]\n",
    "%matplotlib inline\n",
    "\n",
    "import warnings\n",
    "warnings.filterwarnings('ignore')"
   ]
  },
  {
   "cell_type": "code",
   "execution_count": 34,
   "metadata": {},
   "outputs": [
    {
     "data": {
      "text/html": [
       "<div>\n",
       "<style scoped>\n",
       "    .dataframe tbody tr th:only-of-type {\n",
       "        vertical-align: middle;\n",
       "    }\n",
       "\n",
       "    .dataframe tbody tr th {\n",
       "        vertical-align: top;\n",
       "    }\n",
       "\n",
       "    .dataframe thead th {\n",
       "        text-align: right;\n",
       "    }\n",
       "</style>\n",
       "<table border=\"1\" class=\"dataframe\">\n",
       "  <thead>\n",
       "    <tr style=\"text-align: right;\">\n",
       "      <th></th>\n",
       "      <th>age</th>\n",
       "      <th>body_type</th>\n",
       "      <th>diet</th>\n",
       "      <th>drinks</th>\n",
       "      <th>drugs</th>\n",
       "      <th>education</th>\n",
       "      <th>essay0</th>\n",
       "      <th>essay1</th>\n",
       "      <th>essay2</th>\n",
       "      <th>essay3</th>\n",
       "      <th>...</th>\n",
       "      <th>location</th>\n",
       "      <th>offspring</th>\n",
       "      <th>orientation</th>\n",
       "      <th>pets</th>\n",
       "      <th>religion</th>\n",
       "      <th>sex</th>\n",
       "      <th>sign</th>\n",
       "      <th>smokes</th>\n",
       "      <th>speaks</th>\n",
       "      <th>status</th>\n",
       "    </tr>\n",
       "  </thead>\n",
       "  <tbody>\n",
       "    <tr>\n",
       "      <th>0</th>\n",
       "      <td>22</td>\n",
       "      <td>a little extra</td>\n",
       "      <td>strictly anything</td>\n",
       "      <td>socially</td>\n",
       "      <td>never</td>\n",
       "      <td>working on college/university</td>\n",
       "      <td>about me:&lt;br /&gt;\\n&lt;br /&gt;\\ni would love to think...</td>\n",
       "      <td>currently working as an international agent fo...</td>\n",
       "      <td>making people laugh.&lt;br /&gt;\\nranting about a go...</td>\n",
       "      <td>the way i look. i am a six foot half asian, ha...</td>\n",
       "      <td>...</td>\n",
       "      <td>south san francisco, california</td>\n",
       "      <td>doesn&amp;rsquo;t have kids, but might want them</td>\n",
       "      <td>straight</td>\n",
       "      <td>likes dogs and likes cats</td>\n",
       "      <td>agnosticism and very serious about it</td>\n",
       "      <td>m</td>\n",
       "      <td>gemini</td>\n",
       "      <td>sometimes</td>\n",
       "      <td>english</td>\n",
       "      <td>single</td>\n",
       "    </tr>\n",
       "    <tr>\n",
       "      <th>1</th>\n",
       "      <td>35</td>\n",
       "      <td>average</td>\n",
       "      <td>mostly other</td>\n",
       "      <td>often</td>\n",
       "      <td>sometimes</td>\n",
       "      <td>working on space camp</td>\n",
       "      <td>i am a chef: this is what that means.&lt;br /&gt;\\n1...</td>\n",
       "      <td>dedicating everyday to being an unbelievable b...</td>\n",
       "      <td>being silly. having ridiculous amonts of fun w...</td>\n",
       "      <td>NaN</td>\n",
       "      <td>...</td>\n",
       "      <td>oakland, california</td>\n",
       "      <td>doesn&amp;rsquo;t have kids, but might want them</td>\n",
       "      <td>straight</td>\n",
       "      <td>likes dogs and likes cats</td>\n",
       "      <td>agnosticism but not too serious about it</td>\n",
       "      <td>m</td>\n",
       "      <td>cancer</td>\n",
       "      <td>no</td>\n",
       "      <td>english (fluently), spanish (poorly), french (...</td>\n",
       "      <td>single</td>\n",
       "    </tr>\n",
       "    <tr>\n",
       "      <th>2</th>\n",
       "      <td>38</td>\n",
       "      <td>thin</td>\n",
       "      <td>anything</td>\n",
       "      <td>socially</td>\n",
       "      <td>NaN</td>\n",
       "      <td>graduated from masters program</td>\n",
       "      <td>i'm not ashamed of much, but writing public te...</td>\n",
       "      <td>i make nerdy software for musicians, artists, ...</td>\n",
       "      <td>improvising in different contexts. alternating...</td>\n",
       "      <td>my large jaw and large glasses are the physica...</td>\n",
       "      <td>...</td>\n",
       "      <td>san francisco, california</td>\n",
       "      <td>NaN</td>\n",
       "      <td>straight</td>\n",
       "      <td>has cats</td>\n",
       "      <td>NaN</td>\n",
       "      <td>m</td>\n",
       "      <td>pisces but it doesn&amp;rsquo;t matter</td>\n",
       "      <td>no</td>\n",
       "      <td>english, french, c++</td>\n",
       "      <td>available</td>\n",
       "    </tr>\n",
       "    <tr>\n",
       "      <th>3</th>\n",
       "      <td>23</td>\n",
       "      <td>thin</td>\n",
       "      <td>vegetarian</td>\n",
       "      <td>socially</td>\n",
       "      <td>NaN</td>\n",
       "      <td>working on college/university</td>\n",
       "      <td>i work in a library and go to school. . .</td>\n",
       "      <td>reading things written by old dead people</td>\n",
       "      <td>playing synthesizers and organizing books acco...</td>\n",
       "      <td>socially awkward but i do my best</td>\n",
       "      <td>...</td>\n",
       "      <td>berkeley, california</td>\n",
       "      <td>doesn&amp;rsquo;t want kids</td>\n",
       "      <td>straight</td>\n",
       "      <td>likes cats</td>\n",
       "      <td>NaN</td>\n",
       "      <td>m</td>\n",
       "      <td>pisces</td>\n",
       "      <td>no</td>\n",
       "      <td>english, german (poorly)</td>\n",
       "      <td>single</td>\n",
       "    </tr>\n",
       "    <tr>\n",
       "      <th>4</th>\n",
       "      <td>29</td>\n",
       "      <td>athletic</td>\n",
       "      <td>NaN</td>\n",
       "      <td>socially</td>\n",
       "      <td>never</td>\n",
       "      <td>graduated from college/university</td>\n",
       "      <td>hey how's it going? currently vague on the pro...</td>\n",
       "      <td>work work work work + play</td>\n",
       "      <td>creating imagery to look at:&lt;br /&gt;\\nhttp://bag...</td>\n",
       "      <td>i smile a lot and my inquisitive nature</td>\n",
       "      <td>...</td>\n",
       "      <td>san francisco, california</td>\n",
       "      <td>NaN</td>\n",
       "      <td>straight</td>\n",
       "      <td>likes dogs and likes cats</td>\n",
       "      <td>NaN</td>\n",
       "      <td>m</td>\n",
       "      <td>aquarius</td>\n",
       "      <td>no</td>\n",
       "      <td>english</td>\n",
       "      <td>single</td>\n",
       "    </tr>\n",
       "  </tbody>\n",
       "</table>\n",
       "<p>5 rows × 31 columns</p>\n",
       "</div>"
      ],
      "text/plain": [
       "   age       body_type               diet    drinks      drugs  \\\n",
       "0   22  a little extra  strictly anything  socially      never   \n",
       "1   35         average       mostly other     often  sometimes   \n",
       "2   38            thin           anything  socially        NaN   \n",
       "3   23            thin         vegetarian  socially        NaN   \n",
       "4   29        athletic                NaN  socially      never   \n",
       "\n",
       "                           education  \\\n",
       "0      working on college/university   \n",
       "1              working on space camp   \n",
       "2     graduated from masters program   \n",
       "3      working on college/university   \n",
       "4  graduated from college/university   \n",
       "\n",
       "                                              essay0  \\\n",
       "0  about me:<br />\\n<br />\\ni would love to think...   \n",
       "1  i am a chef: this is what that means.<br />\\n1...   \n",
       "2  i'm not ashamed of much, but writing public te...   \n",
       "3          i work in a library and go to school. . .   \n",
       "4  hey how's it going? currently vague on the pro...   \n",
       "\n",
       "                                              essay1  \\\n",
       "0  currently working as an international agent fo...   \n",
       "1  dedicating everyday to being an unbelievable b...   \n",
       "2  i make nerdy software for musicians, artists, ...   \n",
       "3          reading things written by old dead people   \n",
       "4                         work work work work + play   \n",
       "\n",
       "                                              essay2  \\\n",
       "0  making people laugh.<br />\\nranting about a go...   \n",
       "1  being silly. having ridiculous amonts of fun w...   \n",
       "2  improvising in different contexts. alternating...   \n",
       "3  playing synthesizers and organizing books acco...   \n",
       "4  creating imagery to look at:<br />\\nhttp://bag...   \n",
       "\n",
       "                                              essay3  ...  \\\n",
       "0  the way i look. i am a six foot half asian, ha...  ...   \n",
       "1                                                NaN  ...   \n",
       "2  my large jaw and large glasses are the physica...  ...   \n",
       "3                  socially awkward but i do my best  ...   \n",
       "4            i smile a lot and my inquisitive nature  ...   \n",
       "\n",
       "                          location  \\\n",
       "0  south san francisco, california   \n",
       "1              oakland, california   \n",
       "2        san francisco, california   \n",
       "3             berkeley, california   \n",
       "4        san francisco, california   \n",
       "\n",
       "                                      offspring orientation  \\\n",
       "0  doesn&rsquo;t have kids, but might want them    straight   \n",
       "1  doesn&rsquo;t have kids, but might want them    straight   \n",
       "2                                           NaN    straight   \n",
       "3                       doesn&rsquo;t want kids    straight   \n",
       "4                                           NaN    straight   \n",
       "\n",
       "                        pets                                  religion sex  \\\n",
       "0  likes dogs and likes cats     agnosticism and very serious about it   m   \n",
       "1  likes dogs and likes cats  agnosticism but not too serious about it   m   \n",
       "2                   has cats                                       NaN   m   \n",
       "3                 likes cats                                       NaN   m   \n",
       "4  likes dogs and likes cats                                       NaN   m   \n",
       "\n",
       "                                 sign     smokes  \\\n",
       "0                              gemini  sometimes   \n",
       "1                              cancer         no   \n",
       "2  pisces but it doesn&rsquo;t matter         no   \n",
       "3                              pisces         no   \n",
       "4                            aquarius         no   \n",
       "\n",
       "                                              speaks     status  \n",
       "0                                            english     single  \n",
       "1  english (fluently), spanish (poorly), french (...     single  \n",
       "2                               english, french, c++  available  \n",
       "3                           english, german (poorly)     single  \n",
       "4                                            english     single  \n",
       "\n",
       "[5 rows x 31 columns]"
      ]
     },
     "execution_count": 34,
     "metadata": {},
     "output_type": "execute_result"
    }
   ],
   "source": [
    "df = pd.read_csv(\"profiles.csv\", encoding = 'utf-8')\n",
    "#print(df.columns)\n",
    "#print(len(df))\n",
    "#print(df[\"body_type\"].value_counts())\n",
    "df.head()\n"
   ]
  },
  {
   "cell_type": "code",
   "execution_count": 35,
   "metadata": {},
   "outputs": [
    {
     "name": "stdout",
     "output_type": "stream",
     "text": [
      "number of categories: 12\n",
      "categories: ['gemini' 'cancer' 'pisces' 'aquarius' 'taurus' 'virgo' 'sagittarius'\n",
      " 'leo' nan 'aries' 'libra' 'scorpio' 'capricorn']\n"
     ]
    },
    {
     "data": {
      "text/plain": [
       "leo            4374\n",
       "gemini         4310\n",
       "libra          4207\n",
       "cancer         4206\n",
       "virgo          4141\n",
       "taurus         4140\n",
       "scorpio        4134\n",
       "aries          3989\n",
       "pisces         3946\n",
       "sagittarius    3942\n",
       "aquarius       3928\n",
       "capricorn      3573\n",
       "Name: signsCleaned, dtype: int64"
      ]
     },
     "execution_count": 35,
     "metadata": {},
     "output_type": "execute_result"
    }
   ],
   "source": [
    "df['signsCleaned'] = df.sign.str.split().str.get(0)\n",
    "print(\"number of categories:\",df.signsCleaned.nunique())\n",
    "print(\"categories:\", df.signsCleaned.unique())\n",
    "\n",
    "df.signsCleaned.value_counts()"
   ]
  },
  {
   "cell_type": "code",
   "execution_count": 39,
   "metadata": {},
   "outputs": [
    {
     "data": {
      "image/png": "[encoded data removed]",
      "text/plain": [
       "<Figure size 360x360 with 1 Axes>"
      ]
     },
     "metadata": {
      "needs_background": "light"
     },
     "output_type": "display_data"
    }
   ],
   "source": [
    "sns.displot(data=df, x=\"sex\", kind=\"hist\", binwidth = 5);"
   ]
  },
  {
   "cell_type": "code",
   "execution_count": 41,
   "metadata": {},
   "outputs": [
    {
     "data": {
      "image/png": "[encoded data removed]",
      "text/plain": [
       "<Figure size 405.625x360 with 1 Axes>"
      ]
     },
     "metadata": {
      "needs_background": "light"
     },
     "output_type": "display_data"
    }
   ],
   "source": [
    "sns.displot(data=df, x=\"age\", hue=\"sex\", kind=\"hist\", binwidth = 5, multiple = \"stack\");"
   ]
  },
  {
   "cell_type": "code",
   "execution_count": 43,
   "metadata": {},
   "outputs": [
    {
     "data": {
      "text/plain": [
       "age                 0\n",
       "body_type        5296\n",
       "diet            24395\n",
       "drinks           2985\n",
       "drugs           14080\n",
       "education        6628\n",
       "essay0           5488\n",
       "essay1           7572\n",
       "essay2           9638\n",
       "essay3          11476\n",
       "essay4          10537\n",
       "essay5          10850\n",
       "essay6          13771\n",
       "essay7          12451\n",
       "essay8          19225\n",
       "essay9          12603\n",
       "ethnicity        5680\n",
       "height              3\n",
       "income              0\n",
       "job              8198\n",
       "last_online         0\n",
       "location            0\n",
       "offspring       35561\n",
       "orientation         0\n",
       "pets            19921\n",
       "religion        20226\n",
       "sex                 0\n",
       "sign            11056\n",
       "smokes           5512\n",
       "speaks             50\n",
       "status              0\n",
       "signsCleaned    11056\n",
       "dtype: int64"
      ]
     },
     "execution_count": 43,
     "metadata": {},
     "output_type": "execute_result"
    }
   ],
   "source": [
    "df.isnull().sum()"
   ]
  },
  {
   "cell_type": "code",
   "execution_count": 45,
   "metadata": {},
   "outputs": [
    {
     "data": {
      "text/plain": [
       "(16453, 8)"
      ]
     },
     "execution_count": 45,
     "metadata": {},
     "output_type": "execute_result"
    }
   ],
   "source": [
    "cols = ['body_type', 'diet', 'orientation', 'pets', 'religion',\n",
    "       'sex', 'job', 'signsCleaned']\n",
    "df = df[cols].dropna()\n",
    "df.shape"
   ]
  },
  {
   "cell_type": "code",
   "execution_count": 46,
   "metadata": {},
   "outputs": [],
   "source": [
    "for col in cols[:-1]:\n",
    "    df = pd.get_dummies(df, columns=[col], prefix = [col])"
   ]
  },
  {
   "cell_type": "code",
   "execution_count": 47,
   "metadata": {},
   "outputs": [],
   "source": [
    "col_length = len(df.columns)\n",
    "\n",
    "#Y is the target column, X has the rest\n",
    "X = df.iloc[:, 1:col_length]\n",
    "Y = df.iloc[:, 0:1]\n",
    "\n",
    "#Validation chunk size\n",
    "val_size = 0.25\n",
    "\n",
    "#Split the data into chunks\n",
    "from sklearn.model_selection import train_test_split \n",
    "X_train, X_val, Y_train, Y_val = train_test_split(X, Y, test_size=val_size, random_state = 0)\n",
    "\n",
    "#turn in to 1d arrays\n",
    "Y_train = Y_train.to_numpy().ravel()\n",
    "Y_val = Y_val.to_numpy().ravel()"
   ]
  },
  {
   "cell_type": "code",
   "execution_count": 48,
   "metadata": {},
   "outputs": [],
   "source": [
    "from sklearn.linear_model import LogisticRegression\n",
    "from sklearn.tree import DecisionTreeClassifier\n",
    "from sklearn.neighbors import KNeighborsClassifier"
   ]
  },
  {
   "cell_type": "code",
   "execution_count": 49,
   "metadata": {},
   "outputs": [],
   "source": [
    "lr_model = LogisticRegression(multi_class=\"multinomial\").fit(X_train, Y_train)\n",
    "lr_predictions = lr_model.predict(X_train)"
   ]
  },
  {
   "cell_type": "code",
   "execution_count": 50,
   "metadata": {},
   "outputs": [
    {
     "name": "stdout",
     "output_type": "stream",
     "text": [
      "              precision    recall  f1-score   support\n",
      "\n",
      "    aquarius       0.12      0.08      0.10       968\n",
      "       aries       0.13      0.09      0.11       983\n",
      "      cancer       0.13      0.21      0.16      1129\n",
      "   capricorn       0.14      0.06      0.08       882\n",
      "      gemini       0.13      0.18      0.15      1130\n",
      "         leo       0.13      0.20      0.16      1121\n",
      "       libra       0.13      0.11      0.12      1028\n",
      "      pisces       0.14      0.12      0.13       997\n",
      " sagittarius       0.13      0.09      0.11       965\n",
      "     scorpio       0.14      0.06      0.09      1001\n",
      "      taurus       0.12      0.12      0.12      1045\n",
      "       virgo       0.12      0.18      0.15      1090\n",
      "\n",
      "    accuracy                           0.13     12339\n",
      "   macro avg       0.13      0.13      0.12     12339\n",
      "weighted avg       0.13      0.13      0.12     12339\n",
      "\n"
     ]
    }
   ],
   "source": [
    "from sklearn.metrics import classification_report\n",
    "print(classification_report(Y_train, lr_predictions))"
   ]
  },
  {
   "cell_type": "code",
   "execution_count": 51,
   "metadata": {},
   "outputs": [],
   "source": [
    "knn_model = KNeighborsClassifier(n_neighbors = 5).fit(X_train, Y_train)\n",
    "knn_predictions = knn_model.predict(X_train)"
   ]
  },
  {
   "cell_type": "code",
   "execution_count": 52,
   "metadata": {},
   "outputs": [
    {
     "name": "stdout",
     "output_type": "stream",
     "text": [
      "              precision    recall  f1-score   support\n",
      "\n",
      "    aquarius       0.27      0.66      0.38       968\n",
      "       aries       0.26      0.54      0.35       983\n",
      "      cancer       0.31      0.46      0.37      1129\n",
      "   capricorn       0.35      0.37      0.36       882\n",
      "      gemini       0.38      0.34      0.36      1130\n",
      "         leo       0.38      0.28      0.33      1121\n",
      "       libra       0.41      0.26      0.32      1028\n",
      "      pisces       0.44      0.28      0.34       997\n",
      " sagittarius       0.40      0.21      0.27       965\n",
      "     scorpio       0.41      0.22      0.28      1001\n",
      "      taurus       0.41      0.23      0.29      1045\n",
      "       virgo       0.44      0.26      0.33      1090\n",
      "\n",
      "    accuracy                           0.34     12339\n",
      "   macro avg       0.37      0.34      0.33     12339\n",
      "weighted avg       0.37      0.34      0.33     12339\n",
      "\n"
     ]
    }
   ],
   "source": [
    "print(classification_report(Y_train, knn_predictions))"
   ]
  },
  {
   "cell_type": "code",
   "execution_count": 53,
   "metadata": {},
   "outputs": [
    {
     "name": "stdout",
     "output_type": "stream",
     "text": [
      "              precision    recall  f1-score   support\n",
      "\n",
      "    aquarius       0.83      0.98      0.90       968\n",
      "       aries       0.81      0.96      0.88       983\n",
      "      cancer       0.86      0.94      0.90      1129\n",
      "   capricorn       0.88      0.94      0.91       882\n",
      "      gemini       0.87      0.92      0.89      1130\n",
      "         leo       0.91      0.90      0.90      1121\n",
      "       libra       0.91      0.90      0.90      1028\n",
      "      pisces       0.92      0.86      0.89       997\n",
      " sagittarius       0.95      0.86      0.90       965\n",
      "     scorpio       0.96      0.86      0.90      1001\n",
      "      taurus       0.96      0.86      0.91      1045\n",
      "       virgo       0.99      0.82      0.90      1090\n",
      "\n",
      "    accuracy                           0.90     12339\n",
      "   macro avg       0.90      0.90      0.90     12339\n",
      "weighted avg       0.90      0.90      0.90     12339\n",
      "\n"
     ]
    }
   ],
   "source": [
    "cart_model = DecisionTreeClassifier().fit(X_train, Y_train) \n",
    "cart_predictions = cart_model.predict(X_train) \n",
    "print(classification_report(Y_train, cart_predictions))"
   ]
  },
  {
   "cell_type": "code",
   "execution_count": 54,
   "metadata": {},
   "outputs": [],
   "source": [
    "from sklearn.metrics import confusion_matrix \n",
    "cart_cm = confusion_matrix(Y_train, cart_predictions)\n",
    "cart_labels = cart_model.classes_"
   ]
  },
  {
   "cell_type": "code",
   "execution_count": 55,
   "metadata": {},
   "outputs": [
    {
     "data": {
      "image/png": "[encoded data removed]",
      "text/plain": [
       "<Figure size 720x504 with 2 Axes>"
      ]
     },
     "metadata": {
      "needs_background": "light"
     },
     "output_type": "display_data"
    }
   ],
   "source": [
    "plt.figure(figsize=(10,7))\n",
    "\n",
    "ax= plt.subplot()\n",
    "sns.heatmap(cart_cm, annot=True, ax = ax,fmt=\"d\");\n",
    "\n",
    "# labels, title and ticks\n",
    "ax.set_xlabel('Predicted labels');\n",
    "ax.set_ylabel('True labels'); \n",
    "ax.set_title('Confusion Matrix');\n",
    "ax.yaxis.set_tick_params(rotation=360)\n",
    "ax.xaxis.set_tick_params(rotation=90)\n",
    "\n",
    "ax.xaxis.set_ticklabels(cart_labels); \n",
    "ax.yaxis.set_ticklabels(cart_labels);"
   ]
  },
  {
   "cell_type": "code",
   "execution_count": 56,
   "metadata": {},
   "outputs": [
    {
     "data": {
      "text/plain": [
       "75"
      ]
     },
     "execution_count": 56,
     "metadata": {},
     "output_type": "execute_result"
    }
   ],
   "source": [
    "cart_model.get_depth()"
   ]
  },
  {
   "cell_type": "code",
   "execution_count": 57,
   "metadata": {},
   "outputs": [
    {
     "name": "stdout",
     "output_type": "stream",
     "text": [
      "[0.08752026 0.09562399 0.08954619 0.0863047  0.07904337]\n",
      "Baseline: 8.76% (0.53%)\n"
     ]
    }
   ],
   "source": [
    "from sklearn.model_selection import KFold\n",
    "from sklearn.model_selection import cross_val_score\n",
    "\n",
    "kfold = KFold(n_splits=5, shuffle=True, random_state=0)\n",
    "results = cross_val_score(cart_model, X_train, Y_train, cv=kfold, scoring='accuracy')\n",
    "\n",
    "print(results)\n",
    "print(\"Baseline: %.2f%% (%.2f%%)\" % (results.mean()*100, results.std()*100))"
   ]
  },
  {
   "cell_type": "code",
   "execution_count": 58,
   "metadata": {},
   "outputs": [
    {
     "name": "stdout",
     "output_type": "stream",
     "text": [
      "              precision    recall  f1-score   support\n",
      "\n",
      "    aquarius       0.51      0.29      0.37       968\n",
      "       aries       0.54      0.28      0.37       983\n",
      "      cancer       0.23      0.45      0.31      1129\n",
      "   capricorn       0.74      0.24      0.37       882\n",
      "      gemini       0.19      0.53      0.28      1130\n",
      "         leo       0.51      0.34      0.41      1121\n",
      "       libra       0.31      0.34      0.32      1028\n",
      "      pisces       0.52      0.26      0.35       997\n",
      " sagittarius       0.31      0.30      0.31       965\n",
      "     scorpio       0.87      0.20      0.33      1001\n",
      "      taurus       0.43      0.28      0.34      1045\n",
      "       virgo       0.28      0.36      0.32      1090\n",
      "\n",
      "    accuracy                           0.33     12339\n",
      "   macro avg       0.45      0.32      0.34     12339\n",
      "weighted avg       0.45      0.33      0.34     12339\n",
      "\n"
     ]
    }
   ],
   "source": [
    "cart_model20 = DecisionTreeClassifier(max_depth = 20).fit(X_train, Y_train) \n",
    "cart_predictions20 = cart_model20.predict(X_train) \n",
    "print(classification_report(Y_train, cart_predictions20))"
   ]
  },
  {
   "cell_type": "code",
   "execution_count": 59,
   "metadata": {},
   "outputs": [
    {
     "name": "stdout",
     "output_type": "stream",
     "text": [
      "[0.0923825  0.09359806 0.08954619 0.07941653 0.08309688]\n",
      "Baseline: 8.76% (0.53%)\n"
     ]
    }
   ],
   "source": [
    "results20 = cross_val_score(cart_model20, X_train, Y_train, cv=kfold, scoring='accuracy')\n",
    "\n",
    "print(results20)\n",
    "print(\"Baseline: %.2f%% (%.2f%%)\" % (results20.mean()*100, results.std()*100))"
   ]
  },
  {
   "cell_type": "code",
   "execution_count": 60,
   "metadata": {},
   "outputs": [
    {
     "name": "stdout",
     "output_type": "stream",
     "text": [
      "              precision    recall  f1-score   support\n",
      "\n",
      "    aquarius       0.07      0.20      0.11       294\n",
      "       aries       0.08      0.14      0.10       345\n",
      "      cancer       0.08      0.15      0.11       328\n",
      "   capricorn       0.08      0.07      0.07       315\n",
      "      gemini       0.08      0.08      0.08       366\n",
      "         leo       0.08      0.05      0.06       395\n",
      "       libra       0.06      0.05      0.05       326\n",
      "      pisces       0.08      0.05      0.06       337\n",
      " sagittarius       0.08      0.04      0.05       347\n",
      "     scorpio       0.09      0.05      0.07       355\n",
      "      taurus       0.08      0.04      0.05       345\n",
      "       virgo       0.10      0.06      0.07       361\n",
      "\n",
      "    accuracy                           0.08      4114\n",
      "   macro avg       0.08      0.08      0.07      4114\n",
      "weighted avg       0.08      0.08      0.07      4114\n",
      "\n"
     ]
    }
   ],
   "source": [
    "knn_predictionsVal = knn_model.predict(X_val) \n",
    "print(classification_report(Y_val, knn_predictionsVal))"
   ]
  },
  {
   "cell_type": "code",
   "execution_count": 61,
   "metadata": {},
   "outputs": [
    {
     "data": {
      "image/png": "[encoded data removed]",
      "text/plain": [
       "<Figure size 720x504 with 2 Axes>"
      ]
     },
     "metadata": {
      "needs_background": "light"
     },
     "output_type": "display_data"
    }
   ],
   "source": [
    "final_cm = confusion_matrix(Y_val, knn_predictionsVal)\n",
    "knn_labels = knn_model.classes_\n",
    "\n",
    "plt.figure(figsize=(10,7))\n",
    "\n",
    "ax= plt.subplot()\n",
    "sns.heatmap(final_cm, annot=True, ax = ax, fmt=\"d\");\n",
    "\n",
    "# labels, title and ticks\n",
    "ax.set_xlabel('Predicted labels');\n",
    "ax.set_ylabel('True labels'); \n",
    "ax.set_title('Confusion Matrix');\n",
    "ax.yaxis.set_tick_params(rotation=360)\n",
    "ax.xaxis.set_tick_params(rotation=90)\n",
    "\n",
    "ax.xaxis.set_ticklabels(knn_labels); \n",
    "ax.yaxis.set_ticklabels(knn_labels);"
   ]
  },
  {
   "cell_type": "code",
   "execution_count": null,
   "metadata": {},
   "outputs": [],
   "source": []
  },
  {
   "cell_type": "code",
   "execution_count": null,
   "metadata": {},
   "outputs": [],
   "source": []
  },
  {
   "cell_type": "code",
   "execution_count": null,
   "metadata": {},
   "outputs": [],
   "source": []
  },
  {
   "cell_type": "code",
   "execution_count": null,
   "metadata": {},
   "outputs": [],
   "source": []
  },
  {
   "cell_type": "code",
   "execution_count": null,
   "metadata": {},
   "outputs": [],
   "source": []
  },
  {
   "cell_type": "code",
   "execution_count": null,
   "metadata": {},
   "outputs": [],
   "source": []
  },
  {
   "cell_type": "code",
   "execution_count": null,
   "metadata": {},
   "outputs": [],
   "source": []
  },
  {
   "cell_type": "code",
   "execution_count": null,
   "metadata": {},
   "outputs": [],
   "source": []
  }
 ],
 "metadata": {
  "kernelspec": {
   "display_name": "Python 3",
   "language": "python",
   "name": "python3"
  },
  "language_info": {
   "codemirror_mode": {
    "name": "ipython",
    "version": 3
   },
   "file_extension": ".py",
   "mimetype": "text/x-python",
   "name": "python",
   "nbconvert_exporter": "python",
   "pygments_lexer": "ipython3",
   "version": "3.8.5"
  }
 },
 "nbformat": 4,
 "nbformat_minor": 4
}
